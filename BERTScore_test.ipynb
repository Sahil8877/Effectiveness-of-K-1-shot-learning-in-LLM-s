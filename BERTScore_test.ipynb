{
 "cells": [
  {
   "cell_type": "code",
   "execution_count": 1,
   "id": "e9145dd6",
   "metadata": {},
   "outputs": [],
   "source": [
    "from evaluate import load\n",
    "bertscore = load(\"bertscore\")"
   ]
  },
  {
   "cell_type": "code",
   "execution_count": 9,
   "id": "a4404ae6",
   "metadata": {},
   "outputs": [],
   "source": [
    "import pandas as pd\n",
    "queries = pd.read_csv('./middle_products/queries_19.csv')\n",
    "qids = queries.qid.tolist()\n",
    "qrels = pd.read_csv('./middle_products/qrels.csv')"
   ]
  },
  {
   "cell_type": "code",
   "execution_count": 6,
   "id": "1699f46d",
   "metadata": {},
   "outputs": [],
   "source": [
    "import pickle\n",
    "\n",
    "with open('./middle_products/msmarco_passage_v1_qrels.pkl', 'rb') as f:\n",
    "    doc_dict = pickle.load(f)"
   ]
  },
  {
   "cell_type": "code",
   "execution_count": 150,
   "id": "12654be6",
   "metadata": {},
   "outputs": [],
   "source": [
    "def get_docnos(qid):\n",
    "    docnos_0 = [doc_dict[str(docno)] for docno in qrels[(qrels.qid==qid)&(qrels.label==0)].docno.tolist()]\n",
    "    docnos_1 = [doc_dict[str(docno)] for docno in qrels[(qrels.qid==qid)&(qrels.label==1)].docno.tolist()]\n",
    "    docnos_2 = [doc_dict[str(docno)] for docno in qrels[(qrels.qid==qid)&(qrels.label==2)].docno.tolist()]\n",
    "    docnos_3 = [doc_dict[str(docno)] for docno in qrels[(qrels.qid==qid)&(qrels.label==3)].docno.tolist()]\n",
    "\n",
    "    docno_dict = {0: docnos_0, 1: docnos_1, 2: docnos_2, 3: docnos_3}\n",
    "    return docno_dict"
   ]
  },
  {
   "cell_type": "code",
   "execution_count": 164,
   "id": "dbae95b5",
   "metadata": {},
   "outputs": [],
   "source": [
    "def evaluator(to_eval: str, docno_dict: dict, qrel_level: int):\n",
    "    doc_texts = docno_dict[qrel_level]\n",
    "\n",
    "    pred_text = to_eval\n",
    "    predictions = len(doc_texts)*[pred_text]\n",
    "    references = doc_texts\n",
    "#     results = bertscore.compute(predictions=predictions, references=references, lang=\"en\", model_type=\"distilbert-base-uncased\")\n",
    "    results = bertscore.compute(predictions=predictions, references=references, lang=\"en\", model_type=\"bert-large-uncased\", verbose=False)\n",
    "#     results = bertscore.compute(predictions=predictions, references=references, lang=\"en\", model_type=\"roberta-large\", idf=True)\n",
    "#     results = bertscore.compute(predictions=predictions, references=references, lang=\"en\")\n",
    "\n",
    "    precisions, recall, f1 = results['precision'], results['recall'], results['f1']\n",
    "\n",
    "    print(qrel_level)\n",
    "    print('precision', sum(precisions)/len(precisions), max(precisions))\n",
    "    print('recall', sum(recall)/len(recall), max(recall))\n",
    "    print('f1', sum(f1)/len(f1), max(f1))"
   ]
  },
  {
   "cell_type": "code",
   "execution_count": 166,
   "id": "78d18a36",
   "metadata": {},
   "outputs": [
    {
     "name": "stdout",
     "output_type": "stream",
     "text": [
      "3. Once all the eggs are in the pot, bring the water back up to a medium boil and boil your eggs for 8-12 minutes depending on the size of the eggs and how you like your yolk. For my bantam eggs I usually cook for 8 minutes. 4. When the eggs have finished cooking, remove them from the heat and drain out the water.\n",
      "0\n",
      "precision 0.4374804714482701 0.5415135622024536\n",
      "recall 0.45653268195197966 0.5415270328521729\n",
      "f1 0.4464011524251835 0.5258722901344299\n",
      "1\n",
      "precision 0.4400594811886549 0.5017588138580322\n",
      "recall 0.45804172940552235 0.5113457441329956\n",
      "f1 0.447973158210516 0.5065069198608398\n",
      "2\n",
      "precision 0.4451944016177079 0.5171297788619995\n",
      "recall 0.46050091087818146 0.5395222306251526\n",
      "f1 0.45246849851361637 0.5280887484550476\n",
      "3\n",
      "precision 0.49103426933288574 0.49103426933288574\n",
      "recall 0.4869244396686554 0.4869244396686554\n",
      "f1 0.48897072672843933 0.48897072672843933\n"
     ]
    }
   ],
   "source": [
    "to_eval = doc_dict[str(qrels[(qrels.qid==qids[10])&(qrels.label==0)].docno.tolist()[3])]\n",
    "docno_dict = get_docnos(qids[0])\n",
    "\n",
    "print(to_eval)\n",
    "evaluator(to_eval, docno_dict, 0)\n",
    "evaluator(to_eval, docno_dict, 1)\n",
    "evaluator(to_eval, docno_dict, 2)\n",
    "evaluator(to_eval, docno_dict, 3)"
   ]
  },
  {
   "cell_type": "code",
   "execution_count": 165,
   "id": "eea3878c",
   "metadata": {},
   "outputs": [
    {
     "name": "stdout",
     "output_type": "stream",
     "text": [
      "A: The conditions goldfish are kept in plus their diet determine how large they will grow. I have seen goldfish grow ridiculously large in very small containers when their water was changed frequently. Goldfish will not grow if water conditions are poor. Fancy goldfish don’t grow as large as Common goldfish. A good size would be around 5 inches body length for most fancy varieties, 8 inches for Comets and 12 inches for Common Goldfish. These sizes are usually only attained by pond grown fish.\n",
      "0\n",
      "precision 0.4858344670184358 0.5597499012947083\n",
      "recall 0.5131951467005792 0.6287110447883606\n",
      "f1 0.4985697340822505 0.5636140704154968\n",
      "1\n",
      "precision 0.5119845978915691 0.5943679809570312\n",
      "recall 0.5263190418481827 0.6030503511428833\n",
      "f1 0.517819045111537 0.5986776947975159\n",
      "2\n",
      "precision 0.5387307179385218 0.7281001806259155\n",
      "recall 0.5473018244936548 0.9487736821174622\n",
      "f1 0.5424877667221529 0.8239167928695679\n",
      "3\n",
      "precision 1.0 1.0\n",
      "recall 1.0 1.0\n",
      "f1 1.0 1.0\n"
     ]
    }
   ],
   "source": [
    "to_eval = doc_dict[str(qrels[(qrels.qid==qids[0])&(qrels.label==3)].docno.tolist()[0])]\n",
    "docno_dict = get_docnos(qids[0])\n",
    "\n",
    "print(to_eval)\n",
    "evaluator(to_eval, docno_dict, 0)\n",
    "evaluator(to_eval, docno_dict, 1)\n",
    "evaluator(to_eval, docno_dict, 2)\n",
    "evaluator(to_eval, docno_dict, 3)"
   ]
  },
  {
   "cell_type": "code",
   "execution_count": null,
   "id": "48be1848",
   "metadata": {},
   "outputs": [],
   "source": []
  }
 ],
 "metadata": {
  "kernelspec": {
   "display_name": "Python 3 (ipykernel)",
   "language": "python",
   "name": "python3"
  },
  "language_info": {
   "codemirror_mode": {
    "name": "ipython",
    "version": 3
   },
   "file_extension": ".py",
   "mimetype": "text/x-python",
   "name": "python",
   "nbconvert_exporter": "python",
   "pygments_lexer": "ipython3",
   "version": "3.8.18"
  }
 },
 "nbformat": 4,
 "nbformat_minor": 5
}
